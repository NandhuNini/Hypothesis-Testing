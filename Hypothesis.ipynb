{
  "nbformat": 4,
  "nbformat_minor": 0,
  "metadata": {
    "colab": {
      "provenance": []
    },
    "kernelspec": {
      "name": "python3",
      "display_name": "Python 3"
    },
    "language_info": {
      "name": "python"
    }
  },
  "cells": [
    {
      "cell_type": "markdown",
      "source": [
        "# CHI-SQUARE TEST"
      ],
      "metadata": {
        "id": "nP8Cy4A3KL0r"
      }
    },
    {
      "cell_type": "markdown",
      "source": [
        "## Association between Device Type and Customer Satisfaction\n",
        "Background:\n",
        "Mizzare Corporation has collected data on customer satisfaction levels for two types of smart home devices: Smart Thermostats and Smart Lights. They want to determine if there's a significant association between the type of device purchased and the customer's satisfaction level.\n"
      ],
      "metadata": {
        "id": "qdhkmavcKXZr"
      }
    },
    {
      "cell_type": "code",
      "source": [
        "import numpy as np\n",
        "import pandas as pd\n",
        "from scipy.stats import chi2, norm"
      ],
      "metadata": {
        "id": "mGeC-hQ1d7GB"
      },
      "execution_count": null,
      "outputs": []
    },
    {
      "cell_type": "markdown",
      "source": [
        "## Objective:\n",
        "To use the Chi-Square test for independence to determine if there's a significant association between the type of smart home device purchased (Smart Thermostats vs. Smart Lights) and the customer satisfaction level.\n"
      ],
      "metadata": {
        "id": "QMjmOOkQKpCJ"
      }
    },
    {
      "cell_type": "code",
      "source": [
        "obs = np.array([\n",
        "    [50, 70],   # Very Satisfied\n",
        "    [80, 100],  # Satisfied\n",
        "    [60, 90],   # Neutral\n",
        "    [30, 50],   # Unsatisfied\n",
        "    [20, 50]    # Very Unsatisfied\n",
        "])\n",
        "\n",
        "rows = [\"Very Satisfied\",\"Satisfied\",\"Neutral\",\"Unsatisfied\",\"Very Unsatisfied\"]\n",
        "cols = [\"Smart Thermostat\",\"Smart Light\"]"
      ],
      "metadata": {
        "id": "xOaqnQeKL4si"
      },
      "execution_count": null,
      "outputs": []
    },
    {
      "cell_type": "code",
      "source": [
        "df_obs = pd.DataFrame(obs, index=rows, columns=cols)\n",
        "print(\"Observed contingency table:\\n\")\n",
        "print(df_obs)"
      ],
      "metadata": {
        "colab": {
          "base_uri": "https://localhost:8080/"
        },
        "id": "HqqatVZOeG-2",
        "outputId": "2f56990d-d01c-4da2-b33e-923f4ed73ce7"
      },
      "execution_count": null,
      "outputs": [
        {
          "output_type": "stream",
          "name": "stdout",
          "text": [
            "Observed contingency table:\n",
            "\n",
            "                  Smart Thermostat  Smart Light\n",
            "Very Satisfied                  50           70\n",
            "Satisfied                       80          100\n",
            "Neutral                         60           90\n",
            "Unsatisfied                     30           50\n",
            "Very Unsatisfied                20           50\n"
          ]
        }
      ]
    },
    {
      "cell_type": "code",
      "source": [
        "# Totals\n",
        "total = obs.sum()\n",
        "row_sums = obs.sum(axis=1)\n",
        "col_sums = obs.sum(axis=0)\n",
        "total"
      ],
      "metadata": {
        "colab": {
          "base_uri": "https://localhost:8080/"
        },
        "id": "JCvuPkkSeNIj",
        "outputId": "7b557e98-dfd1-47d4-a324-94f2f078f78a"
      },
      "execution_count": null,
      "outputs": [
        {
          "output_type": "execute_result",
          "data": {
            "text/plain": [
              "np.int64(600)"
            ]
          },
          "metadata": {},
          "execution_count": 10
        }
      ]
    },
    {
      "cell_type": "code",
      "source": [
        "# Expected counts\n",
        "expected = np.outer(row_sums, col_sums) / total\n",
        "df_expected = pd.DataFrame(expected, index=rows, columns=cols)\n",
        "print(\"\\nExpected counts (under H0 of independence):\\n\")\n",
        "print(df_expected.round(3))"
      ],
      "metadata": {
        "colab": {
          "base_uri": "https://localhost:8080/"
        },
        "id": "eb_apPOxeSLL",
        "outputId": "00f2d884-31a5-4934-9271-ed44e2bb9294"
      },
      "execution_count": null,
      "outputs": [
        {
          "output_type": "stream",
          "name": "stdout",
          "text": [
            "\n",
            "Expected counts (under H0 of independence):\n",
            "\n",
            "                  Smart Thermostat  Smart Light\n",
            "Very Satisfied                48.0         72.0\n",
            "Satisfied                     72.0        108.0\n",
            "Neutral                       60.0         90.0\n",
            "Unsatisfied                   32.0         48.0\n",
            "Very Unsatisfied              28.0         42.0\n"
          ]
        }
      ]
    },
    {
      "cell_type": "markdown",
      "source": [
        "Assignment Tasks:\n",
        "1. State the Hypotheses:"
      ],
      "metadata": {
        "id": "_1yA0G5IK1Iy"
      }
    },
    {
      "cell_type": "code",
      "source": [
        " \"\"\" H0 = evidence of association\n",
        "     Ha= no evidence of association \"\"\""
      ],
      "metadata": {
        "id": "sBoGFHVpONbl",
        "colab": {
          "base_uri": "https://localhost:8080/",
          "height": 36
        },
        "outputId": "56ec1d31-4bc6-47ab-9f10-cfc4586571c5"
      },
      "execution_count": null,
      "outputs": [
        {
          "output_type": "execute_result",
          "data": {
            "text/plain": [
              "' H0 = evidence of association\\n    Ha= no evidence of association '"
            ],
            "application/vnd.google.colaboratory.intrinsic+json": {
              "type": "string"
            }
          },
          "metadata": {},
          "execution_count": 6
        }
      ]
    },
    {
      "cell_type": "markdown",
      "source": [
        "2. Compute the Chi-Square Statistic:"
      ],
      "metadata": {
        "id": "3gElylHCK5Xh"
      }
    },
    {
      "cell_type": "code",
      "source": [
        "chi2_stat = ((obs - expected)**2 / expected).sum()\n",
        "print(f\"\\nChi-square statistic = {chi2_stat:.4f}\")"
      ],
      "metadata": {
        "colab": {
          "base_uri": "https://localhost:8080/"
        },
        "id": "egxrFDnVeZCb",
        "outputId": "1f16f0d2-a1a3-4081-f4a4-1304af3a7f13"
      },
      "execution_count": null,
      "outputs": [
        {
          "output_type": "stream",
          "name": "stdout",
          "text": [
            "\n",
            "Chi-square statistic = 5.6382\n"
          ]
        }
      ]
    },
    {
      "cell_type": "markdown",
      "source": [
        "3. Determine the Critical Value:\n",
        "Using the significance level (alpha) of 0.05 and the degrees of freedom (which is the number of categories minus 1)"
      ],
      "metadata": {
        "id": "3RvvcRB8K-lz"
      }
    },
    {
      "cell_type": "code",
      "source": [
        "df = (obs.shape[0]-1) * (obs.shape[1]-1)\n",
        "p_value = 1 - chi2.cdf(chi2_stat, df)\n",
        "crit_val = chi2.ppf(0.95, df)\n",
        "print(\"Degrees of freedom =\", df)\n",
        "print(f\"p-value = {p_value:.6g}\")\n",
        "print(f\"Critical chi-square value at alpha=0.05 = {crit_val:.4f}\")"
      ],
      "metadata": {
        "colab": {
          "base_uri": "https://localhost:8080/"
        },
        "id": "75vcY5NOeg8Y",
        "outputId": "ba3b3713-1580-4f6b-9c25-311b215effb2"
      },
      "execution_count": null,
      "outputs": [
        {
          "output_type": "stream",
          "name": "stdout",
          "text": [
            "Degrees of freedom = 4\n",
            "p-value = 0.227844\n",
            "Critical chi-square value at alpha=0.05 = 9.4877\n"
          ]
        }
      ]
    },
    {
      "cell_type": "markdown",
      "source": [
        "4. Make a Decision:\n",
        "Compare the Chi-Square statistic with the critical value to decide whether to reject the null hypothesis.\n"
      ],
      "metadata": {
        "id": "C5EuyI1sLMIw"
      }
    },
    {
      "cell_type": "code",
      "source": [
        "\n",
        "if chi2_stat > crit_val:\n",
        "    print(\"Decision: Reject H0 (evidence of association)\\n\")\n",
        "else:\n",
        "    print(\"Decision: Fail to reject H0 (no evidence of association)\\n\")"
      ],
      "metadata": {
        "colab": {
          "base_uri": "https://localhost:8080/"
        },
        "id": "9PTr-bX4exT3",
        "outputId": "abdcce12-ab9f-4061-8459-ef0c99a4343a"
      },
      "execution_count": null,
      "outputs": [
        {
          "output_type": "stream",
          "name": "stdout",
          "text": [
            "Decision: Fail to reject H0 (no evidence of association)\n",
            "\n"
          ]
        }
      ]
    },
    {
      "cell_type": "markdown",
      "source": [
        "# HYPOTHESIS TESTING"
      ],
      "metadata": {
        "id": "13bqt35ofjUv"
      }
    },
    {
      "cell_type": "markdown",
      "source": [
        "Background:\n",
        "Bombay hospitality Ltd. operates a franchise model for producing exotic Norwegian dinners throughout New England. The operating cost for a franchise in a week (W) is given by the equation W = $1,000 + $5X, where X represents the number of units produced in a week. Recent feedback from restaurant owners suggests that this cost model may no longer be accurate, as their observed weekly operating costs are higher.\n"
      ],
      "metadata": {
        "id": "uP1k7dytfn69"
      }
    },
    {
      "cell_type": "code",
      "source": [
        "# Given model: W = 1000 + 5X, where X ~ Normal(mean=600, sd=25)\n",
        "mu_X = 600\n",
        "sd_X = 25"
      ],
      "metadata": {
        "id": "CTyQXHlMgccC"
      },
      "execution_count": null,
      "outputs": []
    },
    {
      "cell_type": "markdown",
      "source": [
        "Objective:\n",
        "To investigate the restaurant owners' claim about the increase in weekly operating costs using hypothesis testing.\n"
      ],
      "metadata": {
        "id": "oIqoI-KGft3o"
      }
    },
    {
      "cell_type": "markdown",
      "source": [
        "### Data Provided:\n",
        "•\tThe theoretical weekly operating cost model: W = $1,000 + $5X\n",
        "\n",
        "\n",
        "•\tSample of 25 restaurants with a mean weekly cost of Rs. 3,050\n",
        "\n",
        "\n",
        "•\tNumber of units produced in a week (X) follows a normal distribution with a mean (μ) of 600 units and a standard deviation (σ) of 25 units\n"
      ],
      "metadata": {
        "id": "UnfO4_S4fxVO"
      }
    },
    {
      "cell_type": "markdown",
      "source": [
        "## Assignment Tasks:"
      ],
      "metadata": {
        "id": "7A8p_31if49c"
      }
    },
    {
      "cell_type": "markdown",
      "source": [
        "1. State the Hypotheses statement:"
      ],
      "metadata": {
        "id": "w9Z65fcOf9jK"
      }
    },
    {
      "cell_type": "code",
      "source": [
        "\"\"\" H0 = no evidence that costs are higher\n",
        "HA = evidence that costs are higher than model\"\"\""
      ],
      "metadata": {
        "colab": {
          "base_uri": "https://localhost:8080/",
          "height": 36
        },
        "id": "434JniG1g7pK",
        "outputId": "097ff603-03bd-4b09-9291-a187b6a64082"
      },
      "execution_count": null,
      "outputs": [
        {
          "output_type": "execute_result",
          "data": {
            "text/plain": [
              "' H0 (evidence that costs are higher than model)\\nH0 (no evidence that costs are higher) '"
            ],
            "application/vnd.google.colaboratory.intrinsic+json": {
              "type": "string"
            }
          },
          "metadata": {},
          "execution_count": 17
        }
      ]
    },
    {
      "cell_type": "markdown",
      "source": [],
      "metadata": {
        "id": "w-WpETEeg6ff"
      }
    },
    {
      "cell_type": "markdown",
      "source": [
        "### 2. Calculate the Test Statistic:\n",
        "Use the following formula to calculate the test statistic (t):\n",
        "where:\n",
        "\n",
        "\n",
        "•\tˉxˉ = sample mean weekly cost (Rs. 3,050)\n",
        "\n",
        "\n",
        "•\tμ = theoretical mean weekly cost according to the cost model (W = $1,000 + $5X for X = 600 units)\n",
        "\n",
        "\n",
        "•\tσ = 5*25 units\n",
        "\n",
        "\n",
        "•\tn = sample size (25 restaurants)\n"
      ],
      "metadata": {
        "id": "bnXct6plgCJI"
      }
    },
    {
      "cell_type": "code",
      "source": [
        "mu_W = 1000 + 5 * mu_X   # theoretical mean\n",
        "sd_W = 5 * sd_X          # standard deviation\n",
        "\n",
        "# Sample info\n",
        "n = 25\n",
        "xbar = 3050.0  # sample mean\n",
        "\n",
        "se = sd_W / np.sqrt(n)   # standard error\n",
        "z_stat = (xbar - mu_W) / se\n",
        "\n",
        "print(\"Hypothesis Test for Weekly Operating Cost:\\n\")\n",
        "print(f\"Theoretical mean of W = {mu_W}\")\n",
        "print(f\"Standard deviation of W = {sd_W}\")\n",
        "print(f\"Sample size n = {n}, sample mean = {xbar}\")\n",
        "print(f\"Standard error = {se:.3f}\")\n",
        "print(f\"Test statistic z = {z_stat:.4f}\")"
      ],
      "metadata": {
        "colab": {
          "base_uri": "https://localhost:8080/"
        },
        "id": "uIxjwP4dhSFM",
        "outputId": "23c8c997-69c6-4b12-91f5-65a5cdc65ec4"
      },
      "execution_count": null,
      "outputs": [
        {
          "output_type": "stream",
          "name": "stdout",
          "text": [
            "Hypothesis Test for Weekly Operating Cost:\n",
            "\n",
            "Theoretical mean of W = 4000\n",
            "Standard deviation of W = 125\n",
            "Sample size n = 25, sample mean = 3050.0\n",
            "Standard error = 25.000\n",
            "Test statistic z = -38.0000\n"
          ]
        }
      ]
    },
    {
      "cell_type": "markdown",
      "source": [
        "3. Determine the Critical Value:\n",
        "Using the alpha level of 5% (α = 0.05), determine the critical value from the standard normal (Z) distribution table.\n"
      ],
      "metadata": {
        "id": "jPmb6apvgRC7"
      }
    },
    {
      "cell_type": "code",
      "source": [
        "# One-sided test (owners claim higher cost)\n",
        "alpha = 0.05\n",
        "z_crit = norm.ppf(1 - alpha)   # critical z (right-tailed)\n",
        "p_val = 1 - norm.cdf(z_stat)   # right-tailed p-value\n",
        "\n",
        "print(f\"Critical z at alpha=0.05 = {z_crit:.4f}\")\n",
        "print(f\"p-value = {p_val:.6g}\")"
      ],
      "metadata": {
        "colab": {
          "base_uri": "https://localhost:8080/"
        },
        "id": "x9f1zadOiy6U",
        "outputId": "4f903549-37f2-4435-e61c-8b7301f5591b"
      },
      "execution_count": null,
      "outputs": [
        {
          "output_type": "stream",
          "name": "stdout",
          "text": [
            "Critical z at alpha=0.05 = 1.6449\n",
            "p-value = 1\n"
          ]
        }
      ]
    },
    {
      "cell_type": "markdown",
      "source": [
        "4. Make a Decision:\n",
        "Compare the test statistic with the critical value to decide whether to reject the null hypothesis.\n"
      ],
      "metadata": {
        "id": "xxcrL2pKgVEe"
      }
    },
    {
      "cell_type": "code",
      "source": [
        "if z_stat > z_crit:\n",
        "    print(\"Decision: Reject H0 (evidence that costs are higher than model)\\n\")\n",
        "else:\n",
        "    print(\"Decision: Fail to reject H0 (no evidence that costs are higher)\\n\")"
      ],
      "metadata": {
        "colab": {
          "base_uri": "https://localhost:8080/"
        },
        "id": "sskgd6IHhdQO",
        "outputId": "1d3dc248-3906-4cbd-ef58-a1c39c3f35a9"
      },
      "execution_count": null,
      "outputs": [
        {
          "output_type": "stream",
          "name": "stdout",
          "text": [
            "Decision: Fail to reject H0 (no evidence that costs are higher)\n",
            "\n"
          ]
        }
      ]
    },
    {
      "cell_type": "markdown",
      "source": [
        "5. Conclusion:\n",
        "Based on the decision in step 4, conclude whether there is strong evidence to support the restaurant owners' claim that the weekly operating costs are higher than the model suggests.\n"
      ],
      "metadata": {
        "id": "RLEas8yOgYPl"
      }
    },
    {
      "cell_type": "code",
      "source": [
        "\"\"\" From our observation, the conclusion is there is no evidence to support the restaurant owners"
      ],
      "metadata": {
        "id": "ESkTNsYihn-d"
      },
      "execution_count": null,
      "outputs": []
    }
  ]
}